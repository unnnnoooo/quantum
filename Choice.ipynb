{
 "cells": [
  {
   "cell_type": "code",
   "execution_count": 11,
   "metadata": {
    "collapsed": true,
    "pycharm": {
     "name": "#%%\n"
    }
   },
   "outputs": [],
   "source": [
    "from EmQuantAPI import *\n",
    "import pandas as pd"
   ]
  },
  {
   "cell_type": "code",
   "execution_count": 16,
   "outputs": [],
   "source": [
    "pds = 'Ispandas = 1'"
   ],
   "metadata": {
    "collapsed": false,
    "pycharm": {
     "name": "#%%\n"
    }
   }
  },
  {
   "cell_type": "code",
   "execution_count": 2,
   "outputs": [
    {
     "name": "stdout",
     "output_type": "stream",
     "text": [
      "[EmQuantAPI Python] [Em_Info][2022-08-02 10:15:03]:The current version is EmQuantAPI(V2.5.4.0).\n",
      "\n",
      "[EmQuantAPI Python] [Em_Info][2022-08-02 10:15:03]:verifying your token...\n",
      "\n",
      "[EmQuantAPI Python] [Em_Info][2022-08-02 10:15:03]:connect server...\n",
      "\n",
      "[EmQuantAPI Python] [Em_Info][2022-08-02 10:15:04]:start success!\n",
      "\n"
     ]
    }
   ],
   "source": [
    "loginresult = c.start()"
   ],
   "metadata": {
    "collapsed": false,
    "pycharm": {
     "name": "#%%\n"
    }
   }
  },
  {
   "cell_type": "code",
   "execution_count": 52,
   "outputs": [
    {
     "data": {
      "text/plain": "                DATES AMPLITUDE\nCODES                          \n002157.SZ  2022/01/04    7.5569\n002157.SZ  2022/01/05    5.3816\n002157.SZ  2022/01/06    2.5987\n002157.SZ  2022/01/07    3.2227\n002157.SZ  2022/01/10   10.8824\n...               ...       ...\n002157.SZ  2022/07/26    3.2258\n002157.SZ  2022/07/27    2.3102\n002157.SZ  2022/07/28    2.3649\n002157.SZ  2022/07/29    3.8655\n002157.SZ  2022/08/01    2.6359\n\n[139 rows x 2 columns]",
      "text/html": "<div>\n<style scoped>\n    .dataframe tbody tr th:only-of-type {\n        vertical-align: middle;\n    }\n\n    .dataframe tbody tr th {\n        vertical-align: top;\n    }\n\n    .dataframe thead th {\n        text-align: right;\n    }\n</style>\n<table border=\"1\" class=\"dataframe\">\n  <thead>\n    <tr style=\"text-align: right;\">\n      <th></th>\n      <th>DATES</th>\n      <th>AMPLITUDE</th>\n    </tr>\n    <tr>\n      <th>CODES</th>\n      <th></th>\n      <th></th>\n    </tr>\n  </thead>\n  <tbody>\n    <tr>\n      <th>002157.SZ</th>\n      <td>2022/01/04</td>\n      <td>7.5569</td>\n    </tr>\n    <tr>\n      <th>002157.SZ</th>\n      <td>2022/01/05</td>\n      <td>5.3816</td>\n    </tr>\n    <tr>\n      <th>002157.SZ</th>\n      <td>2022/01/06</td>\n      <td>2.5987</td>\n    </tr>\n    <tr>\n      <th>002157.SZ</th>\n      <td>2022/01/07</td>\n      <td>3.2227</td>\n    </tr>\n    <tr>\n      <th>002157.SZ</th>\n      <td>2022/01/10</td>\n      <td>10.8824</td>\n    </tr>\n    <tr>\n      <th>...</th>\n      <td>...</td>\n      <td>...</td>\n    </tr>\n    <tr>\n      <th>002157.SZ</th>\n      <td>2022/07/26</td>\n      <td>3.2258</td>\n    </tr>\n    <tr>\n      <th>002157.SZ</th>\n      <td>2022/07/27</td>\n      <td>2.3102</td>\n    </tr>\n    <tr>\n      <th>002157.SZ</th>\n      <td>2022/07/28</td>\n      <td>2.3649</td>\n    </tr>\n    <tr>\n      <th>002157.SZ</th>\n      <td>2022/07/29</td>\n      <td>3.8655</td>\n    </tr>\n    <tr>\n      <th>002157.SZ</th>\n      <td>2022/08/01</td>\n      <td>2.6359</td>\n    </tr>\n  </tbody>\n</table>\n<p>139 rows × 2 columns</p>\n</div>"
     },
     "execution_count": 52,
     "metadata": {},
     "output_type": "execute_result"
    }
   ],
   "source": [
    "zhengbang = c.csd('002157.sz',['AMPLITUDE'],\"20220101\",'20220801','Ispandas=1')\n",
    "zhengbang"
   ],
   "metadata": {
    "collapsed": false,
    "pycharm": {
     "name": "#%%\n"
    }
   }
  },
  {
   "cell_type": "code",
   "execution_count": null,
   "outputs": [],
   "source": [
    "宏观 = edb()"
   ],
   "metadata": {
    "collapsed": false,
    "pycharm": {
     "name": "#%%\n"
    }
   }
  },
  {
   "cell_type": "code",
   "execution_count": 19,
   "outputs": [
    {
     "name": "stdout",
     "output_type": "stream",
     "text": [
      "[EmQuantAPI Python] [Em_Error][2022-08-02 10:30:41]:[csd] [response 103] [error: 10000013, 【219.142.155.233:19826】拒绝请求！原因：【219.142.155.233:19826】拒绝请求！原因：参数enddate值异常]\n",
      "\n",
      "[EmQuantAPI Python] [Em_Error][2022-08-02 10:30:41]:[csd] fail: [10000013] service error\n",
      "\n"
     ]
    }
   ],
   "source": [
    "data = c.csd(\"300059.SZ,600425.SH\",\"TOTALSHARE\",\"20160701\",\"20170706\",options=pds)"
   ],
   "metadata": {
    "collapsed": false,
    "pycharm": {
     "name": "#%%\n"
    }
   }
  }
 ],
 "metadata": {
  "kernelspec": {
   "display_name": "Python 3",
   "language": "python",
   "name": "python3"
  },
  "language_info": {
   "codemirror_mode": {
    "name": "ipython",
    "version": 2
   },
   "file_extension": ".py",
   "mimetype": "text/x-python",
   "name": "python",
   "nbconvert_exporter": "python",
   "pygments_lexer": "ipython2",
   "version": "2.7.6"
  }
 },
 "nbformat": 4,
 "nbformat_minor": 0
}